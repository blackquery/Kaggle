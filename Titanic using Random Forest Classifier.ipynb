
# Efficiency -- 74.6%

import pandas as pd
import numpy as np
import scipy
from sklearn.ensemble import RandomForestClassifier

def reject_outliers(data, m=2):
    return data[abs(data - np.mean(data)) < m * np.std(data)]

if __name__=='__main__':
    
    titanic = pd.read_csv("Desktop/dataset/train.csv")
    #print(titanic.head())
    
    titanic["Age"] = titanic["Age"].fillna(titanic["Age"].median())
    
    titanic.loc[titanic["Sex"]=='female',"Sex"]=1;
    titanic.loc[titanic["Sex"]=='male',"Sex"]=0;
    
    titanic["Embarked"] = titanic["Embarked"].fillna('S')
    titanic.loc[titanic["Embarked"]=='S',"Embarked"]=0;
    titanic.loc[titanic["Embarked"]=='C',"Embarked"]=1;
    titanic.loc[titanic["Embarked"]=="Q","Embarked"]=2;
    
    titanic_test = pd.read_csv("Desktop/dataset/test.csv")

    titanic_test["Age"] = titanic_test["Age"].fillna(titanic["Age"].median())

    titanic_test.loc[titanic_test["Sex"]=="male","Sex"] = 0
    titanic_test.loc[titanic_test["Sex"]=="female","Sex"] = 1

    titanic_test["Embarked"] = titanic_test["Embarked"].fillna("S")
    titanic_test.loc[titanic_test["Embarked"]=="S","Embarked"] = 0
    titanic_test.loc[titanic_test["Embarked"]=="C","Embarked"] = 1
    titanic_test.loc[titanic_test["Embarked"]=="Q","Embarked"] = 2

    titanic_test["Fare"] = titanic_test["Fare"].fillna(titanic_test["Fare"].median())
    
    
    predictors = ["Pclass", "Sex", "Age", "SibSp", "Parch", "Fare", "Embarked"]
    x = titanic[predictors]
    to_be_test = titanic_test[predictors]
    
    y = titanic["Survived"]
    
    ans = titanic_test["PassengerId"]
    ans = ans.reshape((ans.shape[0],1))
    
    # Random Forest Classifier
    rf = RandomForestClassifier(n_estimators=150, min_samples_split=2, n_jobs=-1)
    rf.fit(x, y)
    predicted = rf.predict(to_be_test)
    
    predicted = predicted.reshape((predicted.shape[0],1))

    predicted_mat = np.concatenate((ans,predicted),axis=1)
    predicted_mat = predicted_mat.astype(int)
    
    predicted = pd.DataFrame(predicted_mat, columns=['PassengerId','Survived'])
    print(predicted)
 
    
