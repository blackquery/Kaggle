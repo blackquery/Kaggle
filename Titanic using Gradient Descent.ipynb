import numpy as np
import pandas as pd
import random
import sklearn
import pylab
import matplotlib.pyplot as plt
from sklearn.datasets.samples_generator import make_regression
from sklearn.linear_model import LinearRegression
from sklearn.cross_validation import KFold
from scipy import stats

def sigmoid(X):
    '''Compute the sigmoid function '''
    X = -1.0*X
    
    den = 1.0 + np.exp(X.astype(float))

    d = 1.0 / den

    return d

def compute_cost(pap,y):
    
    m = pap.shape[0]
    log_heu = np.log(pap)
    log_trans = log_heu.T
    log_heu_minus = np.log(1-pap)
    log_trans_minus = log_heu_minus.T
    avg_cost = (-1/m)*((np.dot(log_trans,y)) + (np.dot(log_trans_minus,(1-y))))             
    return (avg_cost)


def grad_des(x,y,alpha,max_iter):
    
    m = x.shape[0]
    n = x.shape[1]
    converged = False
    iter=0
    
    #print(x)
    #print(y)
    
    theta = np.zeros((n,1))
    transpose = x.T
    
    while not converged:
            
            z = np.dot(x,theta)
            #print(z)
            h_of_x = sigmoid(z)
            
            #J = compute_cost(h_of_x,y)
            #print(J)
            #print(h_of_x.shape)
            #print(y.shape)
            
            pap = h_of_x - y
            
            grad = np.dot(transpose,pap)
            
            temp = theta - (alpha/m)*(grad)
            
            theta = temp
            
            iter = iter + 1
            
            if iter==max_iter:
                converged = True
                
    return theta

def predict(theta, X):
    
    m, n = X.shape
    p = np.zeros(shape=(m, 1))

    h = sigmoid(np.dot(X,theta))

    for it in range(0, h.shape[0]):
        if h[it] > 0.5:
            p[it, 0] = 1
        else:
            p[it, 0] = 0

    return p


if __name__=='__main__':
    
    titanic = pd.read_csv("Desktop/dataset/train.csv")
    #print(titanic.head())
    
    titanic["Age"] = titanic["Age"].fillna(titanic["Age"].median())
    
    titanic.loc[titanic["Sex"]=='female',"Sex"]=1;
    titanic.loc[titanic["Sex"]=='male',"Sex"]=0;
    
    titanic["Embarked"] = titanic["Embarked"].fillna('S')
    titanic.loc[titanic["Embarked"]=='S',"Embarked"]=0;
    titanic.loc[titanic["Embarked"]=='C',"Embarked"]=1;
    titanic.loc[titanic["Embarked"]=="Q","Embarked"]=2;
    
    titanic_test = pd.read_csv("Desktop/dataset/test.csv")

    titanic_test["Age"] = titanic_test["Age"].fillna(titanic["Age"].median())

    titanic_test.loc[titanic_test["Sex"]=="male","Sex"] = 0
    titanic_test.loc[titanic_test["Sex"]=="female","Sex"] = 1

    titanic_test["Embarked"] = titanic_test["Embarked"].fillna("S")
    titanic_test.loc[titanic_test["Embarked"]=="S","Embarked"] = 0
    titanic_test.loc[titanic_test["Embarked"]=="C","Embarked"] = 1
    titanic_test.loc[titanic_test["Embarked"]=="Q","Embarked"] = 2

    titanic_test["Fare"] = titanic_test["Fare"].fillna(titanic_test["Fare"].median())
    
    alpha = 0.001
    max_iter = 400
    
    #print(titanic.head())
    #print(titanic_test.head())
    
    predictors = ["Pclass", "Sex", "Age", "SibSp", "Parch", "Fare", "Embarked"]
    x = titanic[predictors]
    to_be_test = titanic_test[predictors]
    
    #print(x.head())
    
    y = titanic["Survived"]
    
    #print(y.head())
    
    #x = info[:,0:2]
    #m = info.shape[0]
    #y = info[:,2]
    #x = np.c_[np.ones(m),x]
    y = y.reshape((y.shape[0],1))
    
    ans = titanic_test["PassengerId"]
    ans = ans.reshape((ans.shape[0],1))
    #print(ans.head())
    
    theta = grad_des(x,y,alpha,max_iter)
    
    #print(theta.shape)
    
    predicted = predict(theta,to_be_test)
    
    #print(predicted.shape)
    #print(ans.shape)
    predicted_mat = np.concatenate((ans,predicted),axis=1)
    predicted_mat = predicted_mat.astype(int)
    
    predicted = pd.DataFrame(predicted_mat, columns=['PassengerId','Survived'])
    #predicted.to_csv("Desktop/dataset/output1.txt")
    #predicted.to_csv('Desktop/dataset/output34.csv',mode = 'w', index=False)
    print(predicted)
    
    
    
