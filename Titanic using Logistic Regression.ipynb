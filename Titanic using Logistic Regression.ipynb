{
 "cells": [
  {
   "cell_type": "code",
   "execution_count": 11,
   "metadata": {
    "collapsed": false
   },
   "outputs": [],
   "source": [
    "import pandas as pd\n",
    "import numpy as np\n",
    "import scipy\n",
    "from sklearn.linear_model import LogisticRegression\n",
    "\n",
    "if __name__=='__main__':\n",
    "    \n",
    "    titanic = pd.read_csv(\"Desktop/dataset/train.csv\")\n",
    "    #print(titanic.head())\n",
    "    \n",
    "    titanic[\"Age\"] = titanic[\"Age\"].fillna(titanic[\"Age\"].median())\n",
    "    \n",
    "    titanic.loc[titanic[\"Sex\"]=='female',\"Sex\"]=1;\n",
    "    titanic.loc[titanic[\"Sex\"]=='male',\"Sex\"]=0;\n",
    "    \n",
    "    titanic[\"Embarked\"] = titanic[\"Embarked\"].fillna('S')\n",
    "    titanic.loc[titanic[\"Embarked\"]=='S',\"Embarked\"]=0;\n",
    "    titanic.loc[titanic[\"Embarked\"]=='C',\"Embarked\"]=1;\n",
    "    titanic.loc[titanic[\"Embarked\"]==\"Q\",\"Embarked\"]=2;\n",
    "    \n",
    "    titanic_test = pd.read_csv(\"Desktop/dataset/test.csv\")\n",
    "\n",
    "    titanic_test[\"Age\"] = titanic_test[\"Age\"].fillna(titanic[\"Age\"].median())\n",
    "\n",
    "    titanic_test.loc[titanic_test[\"Sex\"]==\"male\",\"Sex\"] = 0\n",
    "    titanic_test.loc[titanic_test[\"Sex\"]==\"female\",\"Sex\"] = 1\n",
    "\n",
    "    titanic_test[\"Embarked\"] = titanic_test[\"Embarked\"].fillna(\"S\")\n",
    "    titanic_test.loc[titanic_test[\"Embarked\"]==\"S\",\"Embarked\"] = 0\n",
    "    titanic_test.loc[titanic_test[\"Embarked\"]==\"C\",\"Embarked\"] = 1\n",
    "    titanic_test.loc[titanic_test[\"Embarked\"]==\"Q\",\"Embarked\"] = 2\n",
    "\n",
    "    titanic_test[\"Fare\"] = titanic_test[\"Fare\"].fillna(titanic_test[\"Fare\"].median())\n",
    "    \n",
    "    \n",
    "    predictors = [\"Pclass\", \"Sex\", \"Age\", \"SibSp\", \"Parch\", \"Fare\", \"Embarked\"]\n",
    "    x = titanic[predictors]\n",
    "    to_be_test = titanic_test[predictors]\n",
    "    \n",
    "    y = titanic[\"Survived\"]\n",
    "    \n",
    "    #y = y.reshape((y.shape[0],1))\n",
    "    \n",
    "    ans = titanic_test[\"PassengerId\"]\n",
    "    ans = ans.reshape((ans.shape[0],1))\n",
    "    #print(ans.head())\n",
    "    \n",
    "    lr = LogisticRegression()\n",
    "    lr.fit(x, y)\n",
    "    predicted = lr.predict(to_be_test)\n",
    "    \n",
    "    \n",
    "    predicted = predicted.reshape((predicted.shape[0],1))\n",
    "    #print(predicted)\n",
    "    \n",
    "    #predicted = predict(theta,to_be_test)\n",
    "    \n",
    "    #print(predicted.shape)\n",
    "    #print(ans.shape)\n",
    "    predicted_mat = np.concatenate((ans,predicted),axis=1)\n",
    "    predicted_mat = predicted_mat.astype(int)\n",
    "    \n",
    "    predicted = pd.DataFrame(predicted_mat, columns=['PassengerId','Survived'])\n",
    "    #predicted.to_csv(\"Desktop/dataset/output1.txt\")\n",
    "    predicted.to_csv('Desktop/dataset/output_using_lib.csv',mode = 'w', index=False)\n",
    "    #print(predicted)\n",
    "    \n",
    "    #pos = (y==1)\n",
    "    #neg = (y==0)\n",
    "    #plt.plot(x[pos, 1], x[pos, 2], 'k+');\n",
    "    #plt.plot(x[neg, 1], x[neg, 2], 'ro');\n",
    "    #plt.show()\n",
    "    \n",
    "    "
   ]
  },
  {
   "cell_type": "code",
   "execution_count": null,
   "metadata": {
    "collapsed": true
   },
   "outputs": [],
   "source": []
  },
  {
   "cell_type": "code",
   "execution_count": null,
   "metadata": {
    "collapsed": true
   },
   "outputs": [],
   "source": []
  }
 ],
 "metadata": {
  "kernelspec": {
   "display_name": "Python 2",
   "language": "python",
   "name": "python2"
  },
  "language_info": {
   "codemirror_mode": {
    "name": "ipython",
    "version": 2
   },
   "file_extension": ".py",
   "mimetype": "text/x-python",
   "name": "python",
   "nbconvert_exporter": "python",
   "pygments_lexer": "ipython2",
   "version": "2.7.6"
  }
 },
 "nbformat": 4,
 "nbformat_minor": 0
}
