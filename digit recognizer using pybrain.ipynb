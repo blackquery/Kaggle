{
 "cells": [
  {
   "cell_type": "code",
   "execution_count": 6,
   "metadata": {
    "collapsed": false,
    "scrolled": true
   },
   "outputs": [
    {
     "name": "stdout",
     "output_type": "stream",
     "text": [
      "6000\n",
      "50\n",
      "number of inputs m:  6000\n",
      "Ist st Done\n"
     ]
    }
   ],
   "source": [
    "import time\n",
    "import numpy as np\n",
    "import pandas as pd\n",
    "\n",
    "from pybrain.structure import FeedForwardNetwork\n",
    "from pybrain.structure import TanhLayer, SoftmaxLayer\n",
    "from pybrain.structure import LinearLayer, SigmoidLayer, FullConnection\n",
    "\n",
    "from pybrain.tools.shortcuts import buildNetwork\n",
    "from pybrain.datasets import ClassificationDataSet\n",
    "from pybrain.utilities import percentError\n",
    "from pybrain.tools.shortcuts import buildNetwork\n",
    "from pybrain.supervised.trainers import BackpropTrainer\n",
    "\n",
    "\n",
    "start = time.time()\n",
    "data = pd.read_csv(\"Desktop/dataset/digit/train.csv\")\n",
    "features = data.iloc[:,1:].values\n",
    "features = features / 255.0\n",
    "\n",
    "targets = data.iloc[:,0].values\n",
    "\n",
    "test_features = pd.read_csv(\"Desktop/dataset/digit/test.csv\")\n",
    "test_features = test_features.iloc[:,:].values\n",
    "test_features = test_features / 255.0\n",
    "\n",
    "targets = np.reshape(targets, (len(targets), -1))\n",
    "\n",
    "\n",
    "num_input = len(features)\n",
    "num_test = len(test_features)\n",
    "\n",
    "print(num_input)\n",
    "print(num_test)\n",
    "\n",
    "# initialize a network with number of input units = number\n",
    "# of pixels; two hidden units with 1000 units, and 10 output units\n",
    "# default is sigmoid hidden units and linear input/ouput units\n",
    "# very important to specify outclass=SoftmaxLayer\n",
    "net = buildNetwork(len(features[1]),300,100,10,outclass=SoftmaxLayer)\n",
    "print(\"number of inputs m: \",num_input)\n",
    "\n",
    "# initialize two classification data sets, one for training\n",
    "# and cross-validation purposes, the other for the test data\n",
    "# default parameter 'target' in method ClassificationDataSet\n",
    "# is '1'\n",
    "DS = ClassificationDataSet(len(features[1]),nb_classes=10)\n",
    "test_DS = ClassificationDataSet(len(features[1]),nb_classes=10)\n",
    "\n",
    "print(\"Ist st Done\")"
   ]
  },
  {
   "cell_type": "code",
   "execution_count": 7,
   "metadata": {
    "collapsed": false
   },
   "outputs": [
    {
     "name": "stdout",
     "output_type": "stream",
     "text": [
      "Dataset build successfully\n",
      "(1200, 784)\n",
      "(1200, 1)\n",
      "1200\n",
      "4800\n",
      "2nd nd done\n"
     ]
    }
   ],
   "source": [
    "print(\"Dataset build successfully\")\n",
    "\n",
    "i = 0\n",
    "# as written, the follwing 3 lines feed only the first\n",
    "# 10000 training cases into the NN for training, for speed\n",
    "# and demonstration purposes. For real training, use \n",
    "# while i < num_input:\n",
    "while i < num_input:\n",
    "    DS.appendLinked(features[i], targets[i])\n",
    "    i+=1\n",
    "    \n",
    "i = 0\n",
    "\n",
    "# as written, the following 3 lines predict only the first\n",
    "# 50 test cases, for the sake of speed and demonstration\n",
    "while i < num_test:\n",
    "    test_DS.appendLinked(test_features[i], 0)\n",
    "    i+=1\n",
    "\n",
    "# split up the classification data set 'DS' into training\n",
    "# and cross-validation sets\n",
    "cvdata_temp, trndata_temp = DS.splitWithProportion(0.2)\n",
    "\n",
    "print(cvdata_temp['input'].shape)\n",
    "print(cvdata_temp['target'].shape)\n",
    "\n",
    "cvdata = ClassificationDataSet(len(features[1]),nb_classes=10)\n",
    "cvdata.setField('input', cvdata_temp['input'])\n",
    "cvdata.setField('target', cvdata_temp['target'])\n",
    "\n",
    "\n",
    "trndata = ClassificationDataSet(len(features[1]),nb_classes=10)\n",
    "trndata.setField('input', trndata_temp['input'])\n",
    "trndata.setField('target', trndata_temp['target'])\n",
    "\n",
    "\n",
    "DS._convertToOneOfMany(bounds=[0,1])\n",
    "test_DS._convertToOneOfMany(bounds=[0,1])\n",
    "cvdata._convertToOneOfMany(bounds=[0,1])\n",
    "trndata._convertToOneOfMany(bounds=[0,1])\n",
    "\n",
    "print(len(cvdata))\n",
    "print(len(trndata))\n",
    "print(\"2nd nd done\")\n"
   ]
  },
  {
   "cell_type": "code",
   "execution_count": 8,
   "metadata": {
    "collapsed": false
   },
   "outputs": [
    {
     "name": "stdout",
     "output_type": "stream",
     "text": [
      "Total error:  0.0578699325744\n",
      "epoch:    1  train error: 67.46%  CV error: 68.08%\n",
      "Total error:  0.0406122422108\n",
      "epoch:    2  train error: 51.90%  CV error: 57.33%\n",
      "Total error:  0.0323400457391\n",
      "epoch:    3  train error: 42.58%  CV error: 48.42%\n",
      "Total error:  0.0268349804388\n",
      "epoch:    4  train error: 35.42%  CV error: 41.75%\n",
      "Total error:  0.0230452580443\n",
      "epoch:    5  train error: 30.48%  CV error: 35.25%\n",
      "Total error:  0.0203764064266\n",
      "epoch:    6  train error: 26.98%  CV error: 31.67%\n",
      "Total error:  0.0183035255406\n",
      "epoch:    7  train error: 23.33%  CV error: 28.17%\n",
      "Total error:  0.0165704181436\n",
      "epoch:    8  train error: 21.02%  CV error: 24.83%\n",
      "Total error:  0.0152314035947\n",
      "epoch:    9  train error: 18.85%  CV error: 23.67%\n",
      "Total error:  0.014159814793\n",
      "epoch:   10  train error: 17.44%  CV error: 21.83%\n",
      "Total error:  0.0133015915399\n",
      "epoch:   11  train error: 15.60%  CV error: 20.17%\n",
      "Total error:  0.0125999539559\n",
      "epoch:   12  train error: 14.85%  CV error: 18.42%\n",
      "Total error:  0.0120564637308\n",
      "epoch:   13  train error: 13.88%  CV error: 17.42%\n",
      "Total error:  0.0115822211899\n",
      "epoch:   14  train error: 13.33%  CV error: 17.08%\n",
      "Total error:  0.0112079634544\n",
      "epoch:   15  train error: 12.17%  CV error: 14.58%\n",
      "Total error:  0.0109045211848\n",
      "epoch:   16  train error: 12.02%  CV error: 14.08%\n",
      "Total error:  0.0107010202349\n",
      "epoch:   17  train error: 11.40%  CV error: 13.67%\n",
      "Total error:  0.0105252390967\n",
      "epoch:   18  train error: 10.96%  CV error: 13.08%\n",
      "Total error:  0.0103732313124\n",
      "epoch:   19  train error: 10.71%  CV error: 13.17%\n",
      "Total error:  0.0102917245195\n",
      "epoch:   20  train error: 10.35%  CV error: 12.92%\n",
      "Total error:  0.0102038830841\n",
      "epoch:   21  train error: 10.29%  CV error: 12.33%\n",
      "Total error:  0.0101834138762\n",
      "epoch:   22  train error: 10.10%  CV error: 11.75%\n",
      "Total error:  0.0101760467129\n",
      "epoch:   23  train error:  9.92%  CV error: 12.17%\n",
      "Total error:  0.010216903521\n",
      "epoch:   24  train error:  9.88%  CV error: 11.58%\n",
      "Total error:  0.0102494750393\n",
      "epoch:   25  train error:  9.79%  CV error: 11.08%\n"
     ]
    }
   ],
   "source": [
    "\n",
    "trainer = BackpropTrainer(net, dataset=trndata,momentum=0.1,verbose=True, weightdecay=0.01,learningrate=0.001)\n",
    "# train the NN 1000 separate times, printing out train and CV errors\n",
    "# each time\n",
    "i =0\n",
    "while i < 25:\n",
    "    # specify the number of epochs\n",
    "    trainer.trainEpochs(1)\n",
    "    trnresults = percentError(trainer.testOnClassData(),trndata['class'])\n",
    "    cvresults = percentError(trainer.testOnClassData(dataset = cvdata), cvdata['class'])\n",
    "\n",
    "    print (\"epoch: %4d\" % trainer.totalepochs, \\\n",
    "        \" train error: %5.2f%%\" %trnresults, \\\n",
    "        \" CV error: %5.2f%%\" % cvresults)\n",
    "    \n",
    "    i+=1\n",
    "\n",
    "i = 0.\n",
    "\n",
    "# feed test data set into NN and print the results to screen\n",
    "out = net.activateOnDataset(test_DS)\n",
    "out = out.argmax(axis=1) \n"
   ]
  },
  {
   "cell_type": "code",
   "execution_count": 34,
   "metadata": {
    "collapsed": false
   },
   "outputs": [
    {
     "data": {
      "text/plain": [
       "<matplotlib.figure.Figure at 0x7f48134c4c88>"
      ]
     },
     "metadata": {},
     "output_type": "display_data"
    },
    {
     "data": {
      "image/png": "[encoded data removed]",
      "text/plain": [
       "<matplotlib.figure.Figure at 0x7f4827d5b400>"
      ]
     },
     "metadata": {},
     "output_type": "display_data"
    },
    {
     "name": "stdout",
     "output_type": "stream",
     "text": [
      "[2 0 4 9 3 7 0 3 0 3 5 7 9 0 4 3 6 1 9 0 9 1 1 5 7 4 2 7 7 7 7 5 4 2 6 2 5\n",
      " 5 1 6 7 7 4 9 8 7 8 2 6 1]\n",
      "3839.702442884445\n"
     ]
    }
   ],
   "source": [
    "print(\"predicted digits: \")\n",
    "np.savetxt('Desktop/dataset/digit/while_showing_mentor.csv', np.c_[range(1,len(out)+1),out], delimiter=',', header = 'ImageId,Label',\n",
    "           comments = '', fmt='%d')\n",
    "\n",
    "\n",
    "\n",
    "import matplotlib.pyplot as plt\n",
    "%matplotlib inline\n",
    "import pylab as pl\n",
    "\n",
    "img = test_features[1]\n",
    "pl.gray()\n",
    "pl.matshow(np.reshape(img,(28,28)))\n",
    "pl.show()\n",
    "\n",
    "out = net.activateOnDataset(test_DS)\n",
    "out = out.argmax(axis=1)\n",
    "print(out)\n",
    "\n",
    "end = time.time()\n",
    "print(end-start)"
   ]
  },
  {
   "cell_type": "code",
   "execution_count": null,
   "metadata": {
    "collapsed": true
   },
   "outputs": [],
   "source": []
  }
 ],
 "metadata": {
  "kernelspec": {
   "display_name": "Python 3",
   "language": "python",
   "name": "python3"
  },
  "language_info": {
   "codemirror_mode": {
    "name": "ipython",
    "version": 3
   },
   "file_extension": ".py",
   "mimetype": "text/x-python",
   "name": "python",
   "nbconvert_exporter": "python",
   "pygments_lexer": "ipython3",
   "version": "3.4.4"
  }
 },
 "nbformat": 4,
 "nbformat_minor": 0
}
