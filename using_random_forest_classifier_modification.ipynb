{
 "cells": [
  {
   "cell_type": "code",
   "execution_count": 2,
   "metadata": {
    "collapsed": false
   },
   "outputs": [
    {
     "name": "stdout",
     "output_type": "stream",
     "text": [
      "done1\n"
     ]
    }
   ],
   "source": [
    "import numpy as np\n",
    "import matplotlib.pyplot as plt\n",
    "from scipy.ndimage import convolve\n",
    "import csv\n",
    "#import cPickle as pickle\n",
    "import os.path\n",
    "import scipy.ndimage as nd\n",
    "import pandas as pd\n",
    "import random\n",
    "import scipy\n",
    "import time\n",
    "import pandas as pd\n",
    "from sklearn import svm,cross_validation as cv\n",
    "from sklearn.ensemble import RandomForestClassifier\n",
    "\n",
    "IMAGE_WIDTH = 28\n",
    "USE_PICKLE = False\n",
    "\n",
    "def threshold(X):\n",
    "    X[X < 0.15] = 0.0\n",
    "    X[X >= 0.85] = 1.0\n",
    "    return X\n",
    "\n",
    "def rotate_dataset(X, Y):\n",
    "    rot_X = np.zeros(X.shape)\n",
    "    for index in range(X.shape[0]):\n",
    "        sign = np.random.choice([-1, 1])\n",
    "        angle = np.random.randint(8, 16)*sign\n",
    "        rot_X[index, :] = threshold(nd.rotate(np.reshape(X[index, :],\n",
    "            ((28, 28))), angle, reshape=False).ravel())\n",
    "    XX = np.vstack((X,rot_X))\n",
    "    YY = np.hstack((Y,Y))\n",
    "    return XX, YY\n",
    "\n",
    "\n",
    "def nudge_dataset(X, Y):\n",
    "    nudge_size = 2\n",
    "    direction_matricies = [\n",
    "        [[0, 1, 0],\n",
    "         [0, 0, 0],\n",
    "         [0, 0, 0]],\n",
    "\n",
    "        [[0, 0, 0],\n",
    "         [1, 0, 0],\n",
    "         [0, 0, 0]],\n",
    "\n",
    "        [[0, 0, 0],\n",
    "         [0, 0, 1],\n",
    "         [0, 0, 0]],\n",
    "\n",
    "        [[0, 0, 0],\n",
    "         [0, 0, 0],\n",
    "         [0, 1, 0]]]\n",
    "\n",
    "    scaled_direction_matricies = [[[comp*nudge_size for comp in vect] for vect in matrix] for matrix in direction_matricies]\n",
    "    shift = lambda x, w: convolve(x.reshape((IMAGE_WIDTH, IMAGE_WIDTH)), mode='constant',\n",
    "                                  weights=w).ravel()\n",
    "    X = np.concatenate([X] + [np.apply_along_axis(shift, 1, X, vector) for vector in scaled_direction_matricies])\n",
    "\n",
    "    Y = np.concatenate([Y for _ in range(5)], axis=0)\n",
    "    return X, Y\n",
    "\n",
    "print(\"done1\")"
   ]
  },
  {
   "cell_type": "code",
   "execution_count": 3,
   "metadata": {
    "collapsed": false,
    "scrolled": true
   },
   "outputs": [
    {
     "name": "stdout",
     "output_type": "stream",
     "text": [
      "(84000, 784)\n",
      "(84000,)\n"
     ]
    }
   ],
   "source": [
    "\n",
    "\n",
    "given_dataset = pd.read_csv(\"../Desktop/dataset/digit/train.csv\")\n",
    "test = pd.read_csv(\"../Desktop/dataset/digit/test.csv\")\n",
    "\n",
    "#print(train.shape)\n",
    "#print(test.shape)\n",
    "#print(train.head())\n",
    "#print(test.head())\n",
    "#print(train.describe())\n",
    "#print(test.describe())\n",
    "\n",
    "train = given_dataset.iloc[:,1:].values\n",
    "target = given_dataset.iloc[:,0].values\n",
    "test = test.values\n",
    "\n",
    "train, target = rotate_dataset(train,target)\n",
    "\n",
    "print(train.shape)\n",
    "print(target.shape)\n",
    "\n"
   ]
  },
  {
   "cell_type": "code",
   "execution_count": 4,
   "metadata": {
    "collapsed": false
   },
   "outputs": [
    {
     "name": "stdout",
     "output_type": "stream",
     "text": [
      "dataset complete\n",
      "fitting complete\n",
      "done\n"
     ]
    }
   ],
   "source": [
    "print(\"dataset complete\")\n",
    "\n",
    "train = train/255.0\n",
    "test = test/255.0\n",
    "\n",
    "rf = RandomForestClassifier(n_estimators=100)\n",
    "rf.fit(train,target)\n",
    "print(\"fitting complete\")\n",
    "pred = rf.predict(test)\n",
    "\n",
    "\n",
    "np.savetxt('../Desktop/dataset/digit/submission_rand_forest_modification.csv', np.c_[range(1,len(test)+1),pred], delimiter=',', header = 'ImageId,Label',\n",
    "           comments = '', fmt='%d')\n",
    "\n",
    "print(\"done\")\n",
    "# accuracy --> .965"
   ]
  },
  {
   "cell_type": "code",
   "execution_count": 12,
   "metadata": {
    "collapsed": false
   },
   "outputs": [
    {
     "data": {
      "text/plain": [
       "<matplotlib.figure.Figure at 0x7f99c8f900f0>"
      ]
     },
     "metadata": {},
     "output_type": "display_data"
    },
    {
     "data": {
      "image/png": "[encoded data removed]",
      "text/plain": [
       "<matplotlib.figure.Figure at 0x7f9a0c3e83c8>"
      ]
     },
     "metadata": {},
     "output_type": "display_data"
    },
    {
     "name": "stdout",
     "output_type": "stream",
     "text": [
      "[3]\n"
     ]
    }
   ],
   "source": [
    "import matplotlib.pyplot as plt\n",
    "%matplotlib inline\n",
    "import pylab as pl\n",
    "\n",
    "img = test[4500]\n",
    "pl.gray()\n",
    "pl.matshow(np.reshape(img,(28,28)))\n",
    "pl.show()\n",
    "\n",
    "print(rf.predict(img))"
   ]
  },
  {
   "cell_type": "code",
   "execution_count": null,
   "metadata": {
    "collapsed": true
   },
   "outputs": [],
   "source": []
  }
 ],
 "metadata": {
  "kernelspec": {
   "display_name": "Python 3",
   "language": "python",
   "name": "python3"
  },
  "language_info": {
   "codemirror_mode": {
    "name": "ipython",
    "version": 3
   },
   "file_extension": ".py",
   "mimetype": "text/x-python",
   "name": "python",
   "nbconvert_exporter": "python",
   "pygments_lexer": "ipython3",
   "version": "3.4.4"
  }
 },
 "nbformat": 4,
 "nbformat_minor": 0
}
